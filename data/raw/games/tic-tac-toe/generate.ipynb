{
 "cells": [
  {
   "cell_type": "code",
   "execution_count": 2,
   "metadata": {},
   "outputs": [],
   "source": [
    "import csv\n",
    "import random\n",
    "\n",
    "def is_winner(board, player):\n",
    "    # Check rows, columns, and diagonals\n",
    "    for i in range(3):\n",
    "        if all(board[i][j] == player for j in range(3)) or \\\n",
    "           all(board[j][i] == player for j in range(3)):\n",
    "            return True\n",
    "    if all(board[i][i] == player for i in range(3)) or \\\n",
    "       all(board[i][2-i] == player for i in range(3)):\n",
    "        return True\n",
    "    return False\n",
    "\n",
    "def get_empty_cells(board):\n",
    "    return [(i, j) for i in range(3) for j in range(3) if board[i][j] == ' ']\n",
    "\n",
    "def generate_tictactoe_logs(num_games, output_file):\n",
    "    with open(output_file, 'w', newline='') as csvfile:\n",
    "        fieldnames = ['event_type', 'agent_id', 'context']\n",
    "        writer = csv.DictWriter(csvfile, fieldnames=fieldnames)\n",
    "        writer.writeheader()\n",
    "\n",
    "        for _ in range(num_games):\n",
    "            board = [[' ' for _ in range(3)] for _ in range(3)]\n",
    "            \n",
    "            # Game Start\n",
    "            writer.writerow({\n",
    "                'event_type': 'GAME_START',\n",
    "                'agent_id': 'system',\n",
    "                'context': 'New Game'\n",
    "            })\n",
    "\n",
    "            current_player = 'X'\n",
    "            game_result = None\n",
    "\n",
    "            while True:\n",
    "                empty_cells = get_empty_cells(board)\n",
    "                if not empty_cells:\n",
    "                    game_result = 'draw'\n",
    "                    break\n",
    "\n",
    "                move = random.choice(empty_cells)\n",
    "                board[move[0]][move[1]] = current_player\n",
    "\n",
    "                writer.writerow({\n",
    "                    'event_type': 'MOVE',\n",
    "                    'agent_id': current_player,\n",
    "                    'context': f\"{move[0]},{move[1]}\"\n",
    "                })\n",
    "\n",
    "                if is_winner(board, current_player):\n",
    "                    game_result = current_player\n",
    "                    break\n",
    "\n",
    "                current_player = 'O' if current_player == 'X' else 'X'\n",
    "\n",
    "            # Game End\n",
    "            writer.writerow({\n",
    "                'event_type': 'GAME_END',\n",
    "                'agent_id': 'system',\n",
    "                'context': game_result\n",
    "            })\n",
    "\n",
    "    print(f\"Generated logs for {num_games} Tic Tac Toe games. Saved to {output_file}\")"
   ]
  },
  {
   "cell_type": "code",
   "execution_count": 3,
   "metadata": {},
   "outputs": [
    {
     "name": "stdout",
     "output_type": "stream",
     "text": [
      "Generated logs for 1000 Tic Tac Toe games. Saved to ../../../processed/games/tic-tac-toe/1k_single_agent.csv\n"
     ]
    }
   ],
   "source": [
    "generate_tictactoe_logs(num_games=1000, output_file='../../../processed/games/tic-tac-toe/1k_single_agent.csv')"
   ]
  },
  {
   "cell_type": "code",
   "execution_count": 4,
   "metadata": {},
   "outputs": [
    {
     "name": "stdout",
     "output_type": "stream",
     "text": [
      "Generated logs for 10000 Tic Tac Toe games. Saved to ../../../processed/games/tic-tac-toe/10k_single_agent.csv\n"
     ]
    }
   ],
   "source": [
    "generate_tictactoe_logs(num_games=1000 * 10, output_file='../../../processed/games/tic-tac-toe/10k_single_agent.csv')"
   ]
  },
  {
   "cell_type": "code",
   "execution_count": 5,
   "metadata": {},
   "outputs": [
    {
     "name": "stdout",
     "output_type": "stream",
     "text": [
      "Generated logs for 50000 Tic Tac Toe games. Saved to ../../../processed/games/tic-tac-toe/50k_single_agent.csv\n"
     ]
    }
   ],
   "source": [
    "generate_tictactoe_logs(num_games=1000 * 50, output_file='../../../processed/games/tic-tac-toe/50k_single_agent.csv')"
   ]
  },
  {
   "cell_type": "code",
   "execution_count": 9,
   "metadata": {},
   "outputs": [],
   "source": [
    "import csv\n",
    "import random\n",
    "\n",
    "def is_winner(board, player):\n",
    "    for i in range(3):\n",
    "        if all(board[i][j] == player for j in range(3)) or \\\n",
    "           all(board[j][i] == player for j in range(3)):\n",
    "            return True\n",
    "    if all(board[i][i] == player for i in range(3)) or \\\n",
    "       all(board[i][2-i] == player for i in range(3)):\n",
    "        return True\n",
    "    return False\n",
    "\n",
    "def get_empty_cells(board):\n",
    "    return [(i, j) for i in range(3) for j in range(3) if board[i][j] == ' ']\n",
    "\n",
    "def minimax(board, depth, is_maximizing, player, opponent):\n",
    "    if is_winner(board, player):\n",
    "        return 10 - depth\n",
    "    if is_winner(board, opponent):\n",
    "        return depth - 10\n",
    "    if not get_empty_cells(board):\n",
    "        return 0\n",
    "\n",
    "    if is_maximizing:\n",
    "        best_score = float('-inf')\n",
    "        for i, j in get_empty_cells(board):\n",
    "            board[i][j] = player\n",
    "            score = minimax(board, depth + 1, False, player, opponent)\n",
    "            board[i][j] = ' '\n",
    "            best_score = max(score, best_score)\n",
    "        return best_score\n",
    "    else:\n",
    "        best_score = float('inf')\n",
    "        for i, j in get_empty_cells(board):\n",
    "            board[i][j] = opponent\n",
    "            score = minimax(board, depth + 1, True, player, opponent)\n",
    "            board[i][j] = ' '\n",
    "            best_score = min(score, best_score)\n",
    "        return best_score\n",
    "\n",
    "def get_best_move(board, player):\n",
    "    opponent = 'O' if player == 'X' else 'X'\n",
    "    best_score = float('-inf')\n",
    "    best_moves = []\n",
    "    for i, j in get_empty_cells(board):\n",
    "        board[i][j] = player\n",
    "        score = minimax(board, 0, False, player, opponent)\n",
    "        board[i][j] = ' '\n",
    "        if score > best_score:\n",
    "            best_score = score\n",
    "            best_moves = [(i, j)]\n",
    "        elif score == best_score:\n",
    "            best_moves.append((i, j))\n",
    "    return random.choice(best_moves)\n",
    "\n",
    "def play_game(writer):\n",
    "    board = [[' ' for _ in range(3)] for _ in range(3)]\n",
    "    writer.writerow({\n",
    "        'event_type': 'GAME_START',\n",
    "        'agent_id': 'system',\n",
    "        'context': 'New Game'\n",
    "    })\n",
    "    current_player = 'X'\n",
    "    moves_made = 0\n",
    "\n",
    "    while True:\n",
    "        empty_cells = get_empty_cells(board)\n",
    "        if not empty_cells:\n",
    "            return 'draw'\n",
    "\n",
    "        if moves_made < 3:\n",
    "            move = random.choice(empty_cells)\n",
    "        else:\n",
    "            if random.random() < 0.9:  # 90% chance of making the best move\n",
    "                move = get_best_move(board, current_player)\n",
    "            else:\n",
    "                move = random.choice(empty_cells)\n",
    "\n",
    "        board[move[0]][move[1]] = current_player\n",
    "        moves_made += 1\n",
    "\n",
    "        writer.writerow({\n",
    "            'event_type': 'MOVE',\n",
    "            'agent_id': current_player,\n",
    "            'context': f\"{move[0]},{move[1]}\"\n",
    "        })\n",
    "\n",
    "        if is_winner(board, current_player):\n",
    "            return current_player\n",
    "\n",
    "        current_player = 'O' if current_player == 'X' else 'X'\n",
    "\n",
    "def generate_tictactoe_logs(num_games, output_file):\n",
    "    with open(output_file, 'w', newline='') as csvfile:\n",
    "        fieldnames = ['event_type', 'agent_id', 'context']\n",
    "        writer = csv.DictWriter(csvfile, fieldnames=fieldnames)\n",
    "        writer.writeheader()\n",
    "\n",
    "        outcomes = {'X': 0, 'O': 0, 'draw': 0}\n",
    "        target_outcomes = num_games // 3\n",
    "\n",
    "        while outcomes['X'] < target_outcomes or outcomes['O'] < target_outcomes or outcomes['draw'] < target_outcomes:\n",
    "            result = play_game(writer)\n",
    "            if outcomes[result] < target_outcomes:\n",
    "                outcomes[result] += 1\n",
    "                writer.writerow({\n",
    "                    'event_type': 'GAME_END',\n",
    "                    'agent_id': 'system',\n",
    "                    'context': result\n",
    "                })\n",
    "\n",
    "    print(f\"Generated logs for {num_games} Tic Tac Toe games. Saved to {output_file}\")\n",
    "    print(f\"Outcomes: X wins: {outcomes['X']}, O wins: {outcomes['O']}, Draws: {outcomes['draw']}\")\n",
    "\n"
   ]
  },
  {
   "cell_type": "code",
   "execution_count": 10,
   "metadata": {},
   "outputs": [
    {
     "name": "stdout",
     "output_type": "stream",
     "text": [
      "Generated logs for 1000 Tic Tac Toe games. Saved to ../../../../1k_single_agent_minmax.csv\n",
      "Outcomes: X wins: 235, O wins: 210, Draws: 555\n"
     ]
    }
   ],
   "source": [
    "generate_tictactoe_logs(num_games=1000, output_file='../../../../1k_single_agent_minmax.csv')"
   ]
  }
 ],
 "metadata": {
  "kernelspec": {
   "display_name": "venv",
   "language": "python",
   "name": "python3"
  },
  "language_info": {
   "codemirror_mode": {
    "name": "ipython",
    "version": 3
   },
   "file_extension": ".py",
   "mimetype": "text/x-python",
   "name": "python",
   "nbconvert_exporter": "python",
   "pygments_lexer": "ipython3",
   "version": "3.11.5"
  }
 },
 "nbformat": 4,
 "nbformat_minor": 2
}
