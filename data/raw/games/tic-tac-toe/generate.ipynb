{
 "cells": [
  {
   "cell_type": "code",
   "execution_count": 2,
   "metadata": {},
   "outputs": [],
   "source": [
    "import csv\n",
    "import random\n",
    "\n",
    "def is_winner(board, player):\n",
    "    # Check rows, columns, and diagonals\n",
    "    for i in range(3):\n",
    "        if all(board[i][j] == player for j in range(3)) or \\\n",
    "           all(board[j][i] == player for j in range(3)):\n",
    "            return True\n",
    "    if all(board[i][i] == player for i in range(3)) or \\\n",
    "       all(board[i][2-i] == player for i in range(3)):\n",
    "        return True\n",
    "    return False\n",
    "\n",
    "def get_empty_cells(board):\n",
    "    return [(i, j) for i in range(3) for j in range(3) if board[i][j] == ' ']\n",
    "\n",
    "def generate_tictactoe_logs(num_games, output_file):\n",
    "    with open(output_file, 'w', newline='') as csvfile:\n",
    "        fieldnames = ['event_type', 'agent_id', 'context']\n",
    "        writer = csv.DictWriter(csvfile, fieldnames=fieldnames)\n",
    "        writer.writeheader()\n",
    "\n",
    "        for _ in range(num_games):\n",
    "            board = [[' ' for _ in range(3)] for _ in range(3)]\n",
    "            \n",
    "            # Game Start\n",
    "            writer.writerow({\n",
    "                'event_type': 'GAME_START',\n",
    "                'agent_id': 'system',\n",
    "                'context': 'New Game'\n",
    "            })\n",
    "\n",
    "            current_player = 'X'\n",
    "            game_result = None\n",
    "\n",
    "            while True:\n",
    "                empty_cells = get_empty_cells(board)\n",
    "                if not empty_cells:\n",
    "                    game_result = 'draw'\n",
    "                    break\n",
    "\n",
    "                move = random.choice(empty_cells)\n",
    "                board[move[0]][move[1]] = current_player\n",
    "\n",
    "                writer.writerow({\n",
    "                    'event_type': 'MOVE',\n",
    "                    'agent_id': current_player,\n",
    "                    'context': f\"{move[0]},{move[1]}\"\n",
    "                })\n",
    "\n",
    "                if is_winner(board, current_player):\n",
    "                    game_result = current_player\n",
    "                    break\n",
    "\n",
    "                current_player = 'O' if current_player == 'X' else 'X'\n",
    "\n",
    "            # Game End\n",
    "            writer.writerow({\n",
    "                'event_type': 'GAME_END',\n",
    "                'agent_id': 'system',\n",
    "                'context': game_result\n",
    "            })\n",
    "\n",
    "    print(f\"Generated logs for {num_games} Tic Tac Toe games. Saved to {output_file}\")"
   ]
  },
  {
   "cell_type": "code",
   "execution_count": 3,
   "metadata": {},
   "outputs": [
    {
     "name": "stdout",
     "output_type": "stream",
     "text": [
      "Generated logs for 1000 Tic Tac Toe games. Saved to ../../../processed/games/tic-tac-toe/1k_single_agent.csv\n"
     ]
    }
   ],
   "source": [
    "generate_tictactoe_logs(num_games=1000, output_file='../../../processed/games/tic-tac-toe/1k_single_agent.csv')"
   ]
  },
  {
   "cell_type": "code",
   "execution_count": 4,
   "metadata": {},
   "outputs": [
    {
     "name": "stdout",
     "output_type": "stream",
     "text": [
      "Generated logs for 10000 Tic Tac Toe games. Saved to ../../../processed/games/tic-tac-toe/10k_single_agent.csv\n"
     ]
    }
   ],
   "source": [
    "generate_tictactoe_logs(num_games=1000 * 10, output_file='../../../processed/games/tic-tac-toe/10k_single_agent.csv')"
   ]
  },
  {
   "cell_type": "code",
   "execution_count": 5,
   "metadata": {},
   "outputs": [
    {
     "name": "stdout",
     "output_type": "stream",
     "text": [
      "Generated logs for 50000 Tic Tac Toe games. Saved to ../../../processed/games/tic-tac-toe/50k_single_agent.csv\n"
     ]
    }
   ],
   "source": [
    "generate_tictactoe_logs(num_games=1000 * 50, output_file='../../../processed/games/tic-tac-toe/50k_single_agent.csv')"
   ]
  },
  {
   "cell_type": "code",
   "execution_count": 1,
   "metadata": {},
   "outputs": [
    {
     "name": "stdout",
     "output_type": "stream",
     "text": [
      "Generated logs for 10 Tic Tac Toe games. Saved to tictactoe_logs.csv\n"
     ]
    }
   ],
   "source": [
    "import csv\n",
    "import random\n",
    "\n",
    "def is_winner(board, player):\n",
    "    # Check rows, columns, and diagonals\n",
    "    for i in range(3):\n",
    "        if all(board[i][j] == player for j in range(3)) or \\\n",
    "           all(board[j][i] == player for j in range(3)):\n",
    "            return True\n",
    "    if all(board[i][i] == player for i in range(3)) or \\\n",
    "       all(board[i][2-i] == player for i in range(3)):\n",
    "        return True\n",
    "    return False\n",
    "\n",
    "def get_empty_cells(board):\n",
    "    return [(i, j) for i in range(3) for j in range(3) if board[i][j] == ' ']\n",
    "\n",
    "def minimax(board, depth, is_maximizing):\n",
    "    if is_winner(board, 'X'):\n",
    "        return 10 - depth\n",
    "    if is_winner(board, 'O'):\n",
    "        return depth - 10\n",
    "    if not get_empty_cells(board):\n",
    "        return 0\n",
    "\n",
    "    if is_maximizing:\n",
    "        best_score = -float('inf')\n",
    "        for (i, j) in get_empty_cells(board):\n",
    "            board[i][j] = 'X'\n",
    "            score = minimax(board, depth + 1, False)\n",
    "            board[i][j] = ' '\n",
    "            best_score = max(score, best_score)\n",
    "        return best_score\n",
    "    else:\n",
    "        best_score = float('inf')\n",
    "        for (i, j) in get_empty_cells(board):\n",
    "            board[i][j] = 'O'\n",
    "            score = minimax(board, depth + 1, True)\n",
    "            board[i][j] = ' '\n",
    "            best_score = min(score, best_score)\n",
    "        return best_score\n",
    "\n",
    "def find_best_move(board, player):\n",
    "    best_move = None\n",
    "    best_score = -float('inf') if player == 'X' else float('inf')\n",
    "\n",
    "    for (i, j) in get_empty_cells(board):\n",
    "        board[i][j] = player\n",
    "        score = minimax(board, 0, player == 'O')\n",
    "        board[i][j] = ' '\n",
    "        if (player == 'X' and score > best_score) or (player == 'O' and score < best_score):\n",
    "            best_score = score\n",
    "            best_move = (i, j)\n",
    "    \n",
    "    return best_move\n",
    "\n",
    "def generate_tictactoe_logs(num_games, output_file):\n",
    "    with open(output_file, 'w', newline='') as csvfile:\n",
    "        fieldnames = ['event_type', 'agent_id', 'context']\n",
    "        writer = csv.DictWriter(csvfile, fieldnames=fieldnames)\n",
    "        writer.writeheader()\n",
    "\n",
    "        for _ in range(num_games):\n",
    "            board = [[' ' for _ in range(3)] for _ in range(3)]\n",
    "            \n",
    "            # Game Start\n",
    "            writer.writerow({\n",
    "                'event_type': 'GAME_START',\n",
    "                'agent_id': 'system',\n",
    "                'context': 'New Game'\n",
    "            })\n",
    "\n",
    "            current_player = 'X'\n",
    "            game_result = None\n",
    "\n",
    "            while True:\n",
    "                empty_cells = get_empty_cells(board)\n",
    "                if not empty_cells:\n",
    "                    game_result = 'draw'\n",
    "                    break\n",
    "\n",
    "                move = find_best_move(board, current_player)\n",
    "                if move:\n",
    "                    board[move[0]][move[1]] = current_player\n",
    "\n",
    "                    writer.writerow({\n",
    "                        'event_type': 'MOVE',\n",
    "                        'agent_id': current_player,\n",
    "                        'context': f\"{move[0]},{move[1]}\"\n",
    "                    })\n",
    "\n",
    "                    if is_winner(board, current_player):\n",
    "                        game_result = current_player\n",
    "                        break\n",
    "\n",
    "                    current_player = 'O' if current_player == 'X' else 'X'\n",
    "                else:\n",
    "                    break  # No valid moves left\n",
    "\n",
    "            # Game End\n",
    "            writer.writerow({\n",
    "                'event_type': 'GAME_END',\n",
    "                'agent_id': 'system',\n",
    "                'context': game_result\n",
    "            })\n",
    "\n",
    "    print(f\"Generated logs for {num_games} Tic Tac Toe games. Saved to {output_file}\")\n",
    "\n",
    "# Example usage\n",
    "generate_tictactoe_logs(10, 'tictactoe_logs.csv')\n"
   ]
  },
  {
   "cell_type": "code",
   "execution_count": 2,
   "metadata": {},
   "outputs": [
    {
     "ename": "KeyboardInterrupt",
     "evalue": "",
     "output_type": "error",
     "traceback": [
      "\u001b[1;31m---------------------------------------------------------------------------\u001b[0m",
      "\u001b[1;31mKeyboardInterrupt\u001b[0m                         Traceback (most recent call last)",
      "Cell \u001b[1;32mIn[2], line 1\u001b[0m\n\u001b[1;32m----> 1\u001b[0m \u001b[43mgenerate_tictactoe_logs\u001b[49m\u001b[43m(\u001b[49m\u001b[43mnum_games\u001b[49m\u001b[38;5;241;43m=\u001b[39;49m\u001b[38;5;241;43m1000\u001b[39;49m\u001b[43m,\u001b[49m\u001b[43m \u001b[49m\u001b[43moutput_file\u001b[49m\u001b[38;5;241;43m=\u001b[39;49m\u001b[38;5;124;43m'\u001b[39;49m\u001b[38;5;124;43m../../../processed/games/tic-tac-toe/1k_single_agent_minmax.csv\u001b[39;49m\u001b[38;5;124;43m'\u001b[39;49m\u001b[43m)\u001b[49m\n",
      "Cell \u001b[1;32mIn[1], line 82\u001b[0m, in \u001b[0;36mgenerate_tictactoe_logs\u001b[1;34m(num_games, output_file)\u001b[0m\n\u001b[0;32m     79\u001b[0m     game_result \u001b[38;5;241m=\u001b[39m \u001b[38;5;124m'\u001b[39m\u001b[38;5;124mdraw\u001b[39m\u001b[38;5;124m'\u001b[39m\n\u001b[0;32m     80\u001b[0m     \u001b[38;5;28;01mbreak\u001b[39;00m\n\u001b[1;32m---> 82\u001b[0m move \u001b[38;5;241m=\u001b[39m \u001b[43mfind_best_move\u001b[49m\u001b[43m(\u001b[49m\u001b[43mboard\u001b[49m\u001b[43m,\u001b[49m\u001b[43m \u001b[49m\u001b[43mcurrent_player\u001b[49m\u001b[43m)\u001b[49m\n\u001b[0;32m     83\u001b[0m \u001b[38;5;28;01mif\u001b[39;00m move:\n\u001b[0;32m     84\u001b[0m     board[move[\u001b[38;5;241m0\u001b[39m]][move[\u001b[38;5;241m1\u001b[39m]] \u001b[38;5;241m=\u001b[39m current_player\n",
      "Cell \u001b[1;32mIn[1], line 49\u001b[0m, in \u001b[0;36mfind_best_move\u001b[1;34m(board, player)\u001b[0m\n\u001b[0;32m     47\u001b[0m \u001b[38;5;28;01mfor\u001b[39;00m (i, j) \u001b[38;5;129;01min\u001b[39;00m get_empty_cells(board):\n\u001b[0;32m     48\u001b[0m     board[i][j] \u001b[38;5;241m=\u001b[39m player\n\u001b[1;32m---> 49\u001b[0m     score \u001b[38;5;241m=\u001b[39m \u001b[43mminimax\u001b[49m\u001b[43m(\u001b[49m\u001b[43mboard\u001b[49m\u001b[43m,\u001b[49m\u001b[43m \u001b[49m\u001b[38;5;241;43m0\u001b[39;49m\u001b[43m,\u001b[49m\u001b[43m \u001b[49m\u001b[43mplayer\u001b[49m\u001b[43m \u001b[49m\u001b[38;5;241;43m==\u001b[39;49m\u001b[43m \u001b[49m\u001b[38;5;124;43m'\u001b[39;49m\u001b[38;5;124;43mO\u001b[39;49m\u001b[38;5;124;43m'\u001b[39;49m\u001b[43m)\u001b[49m\n\u001b[0;32m     50\u001b[0m     board[i][j] \u001b[38;5;241m=\u001b[39m \u001b[38;5;124m'\u001b[39m\u001b[38;5;124m \u001b[39m\u001b[38;5;124m'\u001b[39m\n\u001b[0;32m     51\u001b[0m     \u001b[38;5;28;01mif\u001b[39;00m (player \u001b[38;5;241m==\u001b[39m \u001b[38;5;124m'\u001b[39m\u001b[38;5;124mX\u001b[39m\u001b[38;5;124m'\u001b[39m \u001b[38;5;129;01mand\u001b[39;00m score \u001b[38;5;241m>\u001b[39m best_score) \u001b[38;5;129;01mor\u001b[39;00m (player \u001b[38;5;241m==\u001b[39m \u001b[38;5;124m'\u001b[39m\u001b[38;5;124mO\u001b[39m\u001b[38;5;124m'\u001b[39m \u001b[38;5;129;01mand\u001b[39;00m score \u001b[38;5;241m<\u001b[39m best_score):\n",
      "Cell \u001b[1;32mIn[1], line 38\u001b[0m, in \u001b[0;36mminimax\u001b[1;34m(board, depth, is_maximizing)\u001b[0m\n\u001b[0;32m     36\u001b[0m \u001b[38;5;28;01mfor\u001b[39;00m (i, j) \u001b[38;5;129;01min\u001b[39;00m get_empty_cells(board):\n\u001b[0;32m     37\u001b[0m     board[i][j] \u001b[38;5;241m=\u001b[39m \u001b[38;5;124m'\u001b[39m\u001b[38;5;124mO\u001b[39m\u001b[38;5;124m'\u001b[39m\n\u001b[1;32m---> 38\u001b[0m     score \u001b[38;5;241m=\u001b[39m \u001b[43mminimax\u001b[49m\u001b[43m(\u001b[49m\u001b[43mboard\u001b[49m\u001b[43m,\u001b[49m\u001b[43m \u001b[49m\u001b[43mdepth\u001b[49m\u001b[43m \u001b[49m\u001b[38;5;241;43m+\u001b[39;49m\u001b[43m \u001b[49m\u001b[38;5;241;43m1\u001b[39;49m\u001b[43m,\u001b[49m\u001b[43m \u001b[49m\u001b[38;5;28;43;01mTrue\u001b[39;49;00m\u001b[43m)\u001b[49m\n\u001b[0;32m     39\u001b[0m     board[i][j] \u001b[38;5;241m=\u001b[39m \u001b[38;5;124m'\u001b[39m\u001b[38;5;124m \u001b[39m\u001b[38;5;124m'\u001b[39m\n\u001b[0;32m     40\u001b[0m     best_score \u001b[38;5;241m=\u001b[39m \u001b[38;5;28mmin\u001b[39m(score, best_score)\n",
      "Cell \u001b[1;32mIn[1], line 30\u001b[0m, in \u001b[0;36mminimax\u001b[1;34m(board, depth, is_maximizing)\u001b[0m\n\u001b[0;32m     28\u001b[0m \u001b[38;5;28;01mfor\u001b[39;00m (i, j) \u001b[38;5;129;01min\u001b[39;00m get_empty_cells(board):\n\u001b[0;32m     29\u001b[0m     board[i][j] \u001b[38;5;241m=\u001b[39m \u001b[38;5;124m'\u001b[39m\u001b[38;5;124mX\u001b[39m\u001b[38;5;124m'\u001b[39m\n\u001b[1;32m---> 30\u001b[0m     score \u001b[38;5;241m=\u001b[39m \u001b[43mminimax\u001b[49m\u001b[43m(\u001b[49m\u001b[43mboard\u001b[49m\u001b[43m,\u001b[49m\u001b[43m \u001b[49m\u001b[43mdepth\u001b[49m\u001b[43m \u001b[49m\u001b[38;5;241;43m+\u001b[39;49m\u001b[43m \u001b[49m\u001b[38;5;241;43m1\u001b[39;49m\u001b[43m,\u001b[49m\u001b[43m \u001b[49m\u001b[38;5;28;43;01mFalse\u001b[39;49;00m\u001b[43m)\u001b[49m\n\u001b[0;32m     31\u001b[0m     board[i][j] \u001b[38;5;241m=\u001b[39m \u001b[38;5;124m'\u001b[39m\u001b[38;5;124m \u001b[39m\u001b[38;5;124m'\u001b[39m\n\u001b[0;32m     32\u001b[0m     best_score \u001b[38;5;241m=\u001b[39m \u001b[38;5;28mmax\u001b[39m(score, best_score)\n",
      "Cell \u001b[1;32mIn[1], line 38\u001b[0m, in \u001b[0;36mminimax\u001b[1;34m(board, depth, is_maximizing)\u001b[0m\n\u001b[0;32m     36\u001b[0m \u001b[38;5;28;01mfor\u001b[39;00m (i, j) \u001b[38;5;129;01min\u001b[39;00m get_empty_cells(board):\n\u001b[0;32m     37\u001b[0m     board[i][j] \u001b[38;5;241m=\u001b[39m \u001b[38;5;124m'\u001b[39m\u001b[38;5;124mO\u001b[39m\u001b[38;5;124m'\u001b[39m\n\u001b[1;32m---> 38\u001b[0m     score \u001b[38;5;241m=\u001b[39m \u001b[43mminimax\u001b[49m\u001b[43m(\u001b[49m\u001b[43mboard\u001b[49m\u001b[43m,\u001b[49m\u001b[43m \u001b[49m\u001b[43mdepth\u001b[49m\u001b[43m \u001b[49m\u001b[38;5;241;43m+\u001b[39;49m\u001b[43m \u001b[49m\u001b[38;5;241;43m1\u001b[39;49m\u001b[43m,\u001b[49m\u001b[43m \u001b[49m\u001b[38;5;28;43;01mTrue\u001b[39;49;00m\u001b[43m)\u001b[49m\n\u001b[0;32m     39\u001b[0m     board[i][j] \u001b[38;5;241m=\u001b[39m \u001b[38;5;124m'\u001b[39m\u001b[38;5;124m \u001b[39m\u001b[38;5;124m'\u001b[39m\n\u001b[0;32m     40\u001b[0m     best_score \u001b[38;5;241m=\u001b[39m \u001b[38;5;28mmin\u001b[39m(score, best_score)\n",
      "Cell \u001b[1;32mIn[1], line 30\u001b[0m, in \u001b[0;36mminimax\u001b[1;34m(board, depth, is_maximizing)\u001b[0m\n\u001b[0;32m     28\u001b[0m \u001b[38;5;28;01mfor\u001b[39;00m (i, j) \u001b[38;5;129;01min\u001b[39;00m get_empty_cells(board):\n\u001b[0;32m     29\u001b[0m     board[i][j] \u001b[38;5;241m=\u001b[39m \u001b[38;5;124m'\u001b[39m\u001b[38;5;124mX\u001b[39m\u001b[38;5;124m'\u001b[39m\n\u001b[1;32m---> 30\u001b[0m     score \u001b[38;5;241m=\u001b[39m \u001b[43mminimax\u001b[49m\u001b[43m(\u001b[49m\u001b[43mboard\u001b[49m\u001b[43m,\u001b[49m\u001b[43m \u001b[49m\u001b[43mdepth\u001b[49m\u001b[43m \u001b[49m\u001b[38;5;241;43m+\u001b[39;49m\u001b[43m \u001b[49m\u001b[38;5;241;43m1\u001b[39;49m\u001b[43m,\u001b[49m\u001b[43m \u001b[49m\u001b[38;5;28;43;01mFalse\u001b[39;49;00m\u001b[43m)\u001b[49m\n\u001b[0;32m     31\u001b[0m     board[i][j] \u001b[38;5;241m=\u001b[39m \u001b[38;5;124m'\u001b[39m\u001b[38;5;124m \u001b[39m\u001b[38;5;124m'\u001b[39m\n\u001b[0;32m     32\u001b[0m     best_score \u001b[38;5;241m=\u001b[39m \u001b[38;5;28mmax\u001b[39m(score, best_score)\n",
      "Cell \u001b[1;32mIn[1], line 38\u001b[0m, in \u001b[0;36mminimax\u001b[1;34m(board, depth, is_maximizing)\u001b[0m\n\u001b[0;32m     36\u001b[0m \u001b[38;5;28;01mfor\u001b[39;00m (i, j) \u001b[38;5;129;01min\u001b[39;00m get_empty_cells(board):\n\u001b[0;32m     37\u001b[0m     board[i][j] \u001b[38;5;241m=\u001b[39m \u001b[38;5;124m'\u001b[39m\u001b[38;5;124mO\u001b[39m\u001b[38;5;124m'\u001b[39m\n\u001b[1;32m---> 38\u001b[0m     score \u001b[38;5;241m=\u001b[39m \u001b[43mminimax\u001b[49m\u001b[43m(\u001b[49m\u001b[43mboard\u001b[49m\u001b[43m,\u001b[49m\u001b[43m \u001b[49m\u001b[43mdepth\u001b[49m\u001b[43m \u001b[49m\u001b[38;5;241;43m+\u001b[39;49m\u001b[43m \u001b[49m\u001b[38;5;241;43m1\u001b[39;49m\u001b[43m,\u001b[49m\u001b[43m \u001b[49m\u001b[38;5;28;43;01mTrue\u001b[39;49;00m\u001b[43m)\u001b[49m\n\u001b[0;32m     39\u001b[0m     board[i][j] \u001b[38;5;241m=\u001b[39m \u001b[38;5;124m'\u001b[39m\u001b[38;5;124m \u001b[39m\u001b[38;5;124m'\u001b[39m\n\u001b[0;32m     40\u001b[0m     best_score \u001b[38;5;241m=\u001b[39m \u001b[38;5;28mmin\u001b[39m(score, best_score)\n",
      "Cell \u001b[1;32mIn[1], line 30\u001b[0m, in \u001b[0;36mminimax\u001b[1;34m(board, depth, is_maximizing)\u001b[0m\n\u001b[0;32m     28\u001b[0m \u001b[38;5;28;01mfor\u001b[39;00m (i, j) \u001b[38;5;129;01min\u001b[39;00m get_empty_cells(board):\n\u001b[0;32m     29\u001b[0m     board[i][j] \u001b[38;5;241m=\u001b[39m \u001b[38;5;124m'\u001b[39m\u001b[38;5;124mX\u001b[39m\u001b[38;5;124m'\u001b[39m\n\u001b[1;32m---> 30\u001b[0m     score \u001b[38;5;241m=\u001b[39m \u001b[43mminimax\u001b[49m\u001b[43m(\u001b[49m\u001b[43mboard\u001b[49m\u001b[43m,\u001b[49m\u001b[43m \u001b[49m\u001b[43mdepth\u001b[49m\u001b[43m \u001b[49m\u001b[38;5;241;43m+\u001b[39;49m\u001b[43m \u001b[49m\u001b[38;5;241;43m1\u001b[39;49m\u001b[43m,\u001b[49m\u001b[43m \u001b[49m\u001b[38;5;28;43;01mFalse\u001b[39;49;00m\u001b[43m)\u001b[49m\n\u001b[0;32m     31\u001b[0m     board[i][j] \u001b[38;5;241m=\u001b[39m \u001b[38;5;124m'\u001b[39m\u001b[38;5;124m \u001b[39m\u001b[38;5;124m'\u001b[39m\n\u001b[0;32m     32\u001b[0m     best_score \u001b[38;5;241m=\u001b[39m \u001b[38;5;28mmax\u001b[39m(score, best_score)\n",
      "Cell \u001b[1;32mIn[1], line 19\u001b[0m, in \u001b[0;36mminimax\u001b[1;34m(board, depth, is_maximizing)\u001b[0m\n\u001b[0;32m     18\u001b[0m \u001b[38;5;28;01mdef\u001b[39;00m \u001b[38;5;21mminimax\u001b[39m(board, depth, is_maximizing):\n\u001b[1;32m---> 19\u001b[0m     \u001b[38;5;28;01mif\u001b[39;00m \u001b[43mis_winner\u001b[49m\u001b[43m(\u001b[49m\u001b[43mboard\u001b[49m\u001b[43m,\u001b[49m\u001b[43m \u001b[49m\u001b[38;5;124;43m'\u001b[39;49m\u001b[38;5;124;43mX\u001b[39;49m\u001b[38;5;124;43m'\u001b[39;49m\u001b[43m)\u001b[49m:\n\u001b[0;32m     20\u001b[0m         \u001b[38;5;28;01mreturn\u001b[39;00m \u001b[38;5;241m10\u001b[39m \u001b[38;5;241m-\u001b[39m depth\n\u001b[0;32m     21\u001b[0m     \u001b[38;5;28;01mif\u001b[39;00m is_winner(board, \u001b[38;5;124m'\u001b[39m\u001b[38;5;124mO\u001b[39m\u001b[38;5;124m'\u001b[39m):\n",
      "Cell \u001b[1;32mIn[1], line 8\u001b[0m, in \u001b[0;36mis_winner\u001b[1;34m(board, player)\u001b[0m\n\u001b[0;32m      4\u001b[0m \u001b[38;5;28;01mdef\u001b[39;00m \u001b[38;5;21mis_winner\u001b[39m(board, player):\n\u001b[0;32m      5\u001b[0m     \u001b[38;5;66;03m# Check rows, columns, and diagonals\u001b[39;00m\n\u001b[0;32m      6\u001b[0m     \u001b[38;5;28;01mfor\u001b[39;00m i \u001b[38;5;129;01min\u001b[39;00m \u001b[38;5;28mrange\u001b[39m(\u001b[38;5;241m3\u001b[39m):\n\u001b[0;32m      7\u001b[0m         \u001b[38;5;28;01mif\u001b[39;00m \u001b[38;5;28mall\u001b[39m(board[i][j] \u001b[38;5;241m==\u001b[39m player \u001b[38;5;28;01mfor\u001b[39;00m j \u001b[38;5;129;01min\u001b[39;00m \u001b[38;5;28mrange\u001b[39m(\u001b[38;5;241m3\u001b[39m)) \u001b[38;5;129;01mor\u001b[39;00m \\\n\u001b[1;32m----> 8\u001b[0m            \u001b[38;5;28mall\u001b[39m(board[j][i] \u001b[38;5;241m==\u001b[39m player \u001b[38;5;28;01mfor\u001b[39;00m j \u001b[38;5;129;01min\u001b[39;00m \u001b[38;5;28mrange\u001b[39m(\u001b[38;5;241m3\u001b[39m)):\n\u001b[0;32m      9\u001b[0m             \u001b[38;5;28;01mreturn\u001b[39;00m \u001b[38;5;28;01mTrue\u001b[39;00m\n\u001b[0;32m     10\u001b[0m     \u001b[38;5;28;01mif\u001b[39;00m \u001b[38;5;28mall\u001b[39m(board[i][i] \u001b[38;5;241m==\u001b[39m player \u001b[38;5;28;01mfor\u001b[39;00m i \u001b[38;5;129;01min\u001b[39;00m \u001b[38;5;28mrange\u001b[39m(\u001b[38;5;241m3\u001b[39m)) \u001b[38;5;129;01mor\u001b[39;00m \\\n\u001b[0;32m     11\u001b[0m        \u001b[38;5;28mall\u001b[39m(board[i][\u001b[38;5;241m2\u001b[39m\u001b[38;5;241m-\u001b[39mi] \u001b[38;5;241m==\u001b[39m player \u001b[38;5;28;01mfor\u001b[39;00m i \u001b[38;5;129;01min\u001b[39;00m \u001b[38;5;28mrange\u001b[39m(\u001b[38;5;241m3\u001b[39m)):\n",
      "\u001b[1;31mKeyboardInterrupt\u001b[0m: "
     ]
    }
   ],
   "source": [
    "generate_tictactoe_logs(num_games=1000, output_file='../../../processed/games/tic-tac-toe/1k_single_agent_minmax.csv')"
   ]
  }
 ],
 "metadata": {
  "kernelspec": {
   "display_name": "venv",
   "language": "python",
   "name": "python3"
  },
  "language_info": {
   "codemirror_mode": {
    "name": "ipython",
    "version": 3
   },
   "file_extension": ".py",
   "mimetype": "text/x-python",
   "name": "python",
   "nbconvert_exporter": "python",
   "pygments_lexer": "ipython3",
   "version": "3.11.5"
  }
 },
 "nbformat": 4,
 "nbformat_minor": 2
}
